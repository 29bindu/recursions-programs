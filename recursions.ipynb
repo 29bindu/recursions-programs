{
 "cells": [
  {
   "cell_type": "code",
   "execution_count": 9,
   "id": "d432efc6-1479-4cbc-aea4-805005755aab",
   "metadata": {},
   "outputs": [
    {
     "name": "stdin",
     "output_type": "stream",
     "text": [
      "enter terms: 12\n"
     ]
    },
    {
     "name": "stdout",
     "output_type": "stream",
     "text": [
      "0 1 1 2 3 5 8 13 21 34 55 89 "
     ]
    }
   ],
   "source": [
    "#fibonacci 0 1 1 2 3 5 8 13 21 34 55 .....\n",
    "def fib(n):\n",
    "    if n<=1:\n",
    "        return n\n",
    "    else:\n",
    "        return fib(n-1)+fib(n-2)\n",
    "num=int(input(\"enter terms:\"))\n",
    "for i in range(num):\n",
    "    print(fib(i),end=' ')\n",
    "    "
   ]
  },
  {
   "cell_type": "code",
   "execution_count": 13,
   "id": "bb4ea01d-6bcd-47f5-9bf3-41c843dab043",
   "metadata": {},
   "outputs": [
    {
     "name": "stdin",
     "output_type": "stream",
     "text": [
      "enter a 4 digit number: 1000\n"
     ]
    },
    {
     "name": "stdout",
     "output_type": "stream",
     "text": [
      "sum of digits: 1\n"
     ]
    }
   ],
   "source": [
    "#indirect recursion for sum of digits\n",
    "def dsum(n):\n",
    "    if n==0:\n",
    "        return 0\n",
    "    return n%10+temp(n//10)\n",
    "def temp(n):\n",
    "    return dsum(n)\n",
    "num=int(input(\"enter a 4 digit number:\"))\n",
    "print(\"sum of digits:\",dsum(num))"
   ]
  },
  {
   "cell_type": "code",
   "execution_count": 25,
   "id": "eddf39f4-75e8-463f-98d8-dff6ea3737e9",
   "metadata": {},
   "outputs": [
    {
     "name": "stdin",
     "output_type": "stream",
     "text": [
      "enter number 6\n"
     ]
    },
    {
     "name": "stdout",
     "output_type": "stream",
     "text": [
      "6 is even\n"
     ]
    }
   ],
   "source": [
    "#check for odd or even number\n",
    "def one(n):\n",
    "    if n==0:\n",
    "        return True\n",
    "    else:\n",
    "        return two(n-1)\n",
    "def two(n):\n",
    "    if n==0:\n",
    "        return False\n",
    "    else:\n",
    "        return one(n-1)\n",
    "num=int(input(\"enter number\"))\n",
    "if one(num):\n",
    "    print(num,\"is even\")\n",
    "else:\n",
    "    print(num,\"is odd\")"
   ]
  },
  {
   "cell_type": "code",
   "execution_count": 31,
   "id": "6852ced1-73db-45b3-906a-4ebddb0eb6fc",
   "metadata": {},
   "outputs": [
    {
     "name": "stdin",
     "output_type": "stream",
     "text": [
      "enter number: 5\n"
     ]
    },
    {
     "name": "stdout",
     "output_type": "stream",
     "text": [
      "hima 5\n",
      "sammeta 4\n",
      "hima 3\n",
      "sammeta 2\n",
      "hima 1\n"
     ]
    }
   ],
   "source": [
    "def A(n):\n",
    "    if n<=0:\n",
    "        return \n",
    "    print(\"hima\",n)\n",
    "    B(n-1)\n",
    "def B(n):\n",
    "    if n<=0:\n",
    "        return\n",
    "    print(\"sammeta\",n)\n",
    "    A(n-1)\n",
    "num=int(input(\"enter number:\"))\n",
    "A(num)\n",
    "\n"
   ]
  },
  {
   "cell_type": "code",
   "execution_count": 37,
   "id": "48abde1b-ccaa-42e6-bd07-d0d390d26f52",
   "metadata": {},
   "outputs": [
    {
     "name": "stdin",
     "output_type": "stream",
     "text": [
      "enter starting number: 7\n"
     ]
    },
    {
     "name": "stdout",
     "output_type": "stream",
     "text": [
      "\n",
      " player A's turn. Current number 7\n"
     ]
    },
    {
     "name": "stdin",
     "output_type": "stream",
     "text": [
      "player A, subtract 1 or 2: 6\n",
      "player A, subtract 1 or 2: 4\n",
      "player A, subtract 1 or 2: 2\n"
     ]
    },
    {
     "name": "stdout",
     "output_type": "stream",
     "text": [
      "\n",
      " player B's turn. current number5\n"
     ]
    },
    {
     "name": "stdin",
     "output_type": "stream",
     "text": [
      "player B, subtract 1 or 2: 6\n",
      "player A, subtract 1 or 2: 4\n",
      "player A, subtract 1 or 2: 9\n",
      "player A, subtract 1 or 2: 1\n"
     ]
    },
    {
     "name": "stdout",
     "output_type": "stream",
     "text": [
      "\n",
      " player A's turn. Current number 4\n"
     ]
    },
    {
     "name": "stdin",
     "output_type": "stream",
     "text": [
      "player A, subtract 1 or 2: 4\n",
      "player A, subtract 1 or 2: 3\n",
      "player A, subtract 1 or 2: 2\n"
     ]
    },
    {
     "name": "stdout",
     "output_type": "stream",
     "text": [
      "\n",
      " player B's turn. current number2\n"
     ]
    },
    {
     "name": "stdin",
     "output_type": "stream",
     "text": [
      "player B, subtract 1 or 2: 5\n",
      "player A, subtract 1 or 2: 4\n",
      "player A, subtract 1 or 2: 2\n"
     ]
    },
    {
     "name": "stdout",
     "output_type": "stream",
     "text": [
      "player A reached 0! player A loses\n"
     ]
    }
   ],
   "source": [
    "#game\n",
    "def player_A(n):\n",
    "    if n<=0:\n",
    "        print(\"player A reached 0! player A loses\")\n",
    "        return\n",
    "    print(f\"\\n player A's turn. Current number {n}\")\n",
    "    move=int(input(\"player A, subtract 1 or 2:\"))\n",
    "    while move not in [1,2]:\n",
    "        move=int(input(\"player A, subtract 1 or 2:\"))\n",
    "    player_B(n-move)\n",
    "def player_B(n):\n",
    "    if n<=0:\n",
    "        print(\"player B reached 0!! player B loses\")\n",
    "        return\n",
    "    print(f\"\\n player B's turn. current number{n}\")\n",
    "    move=int(input(\"player B, subtract 1 or 2:\"))\n",
    "    while move not in[1,2]:\n",
    "        move=int(input(\"player A, subtract 1 or 2:\"))\n",
    "    player_A(n-move)\n",
    "start=int(input(\"enter starting number:\"))\n",
    "player_A(start)"
   ]
  },
  {
   "cell_type": "code",
   "execution_count": null,
   "id": "7bc9e2c7-b23e-4d83-9821-fa8ba19c98bd",
   "metadata": {},
   "outputs": [],
   "source": []
  }
 ],
 "metadata": {
  "kernelspec": {
   "display_name": "Python 3 (ipykernel)",
   "language": "python",
   "name": "python3"
  },
  "language_info": {
   "codemirror_mode": {
    "name": "ipython",
    "version": 3
   },
   "file_extension": ".py",
   "mimetype": "text/x-python",
   "name": "python",
   "nbconvert_exporter": "python",
   "pygments_lexer": "ipython3",
   "version": "3.12.7"
  }
 },
 "nbformat": 4,
 "nbformat_minor": 5
}
